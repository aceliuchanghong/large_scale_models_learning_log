{
 "cells": [
  {
   "cell_type": "code",
   "execution_count": null,
   "metadata": {
    "collapsed": true
   },
   "outputs": [],
   "source": [
    "# 1. 检查gpu情况\n",
    "import tensorflow as tf\n",
    "\n",
    "if tf.test.gpu_device_name():\n",
    "    print('Default GPU Device Details: {}'.format(tf.test.gpu_device_name()))\n",
    "else:\n",
    "    raise SystemError('GPU device not found')"
   ]
  },
  {
   "cell_type": "markdown",
   "source": [
    "Default GPU Device Details: /device:GPU:0"
   ],
   "metadata": {
    "collapsed": false
   }
  },
  {
   "cell_type": "code",
   "execution_count": null,
   "outputs": [],
   "source": [
    "# 2. 环境配置 environment\n",
    "!pip install -q condacolab\n",
    "# Setting up condacolab and installing packages\n",
    "import condacolab\n",
    "condacolab.install_from_url(\"https://repo.anaconda.com/miniconda/Miniconda3-py39_23.11.0-2-Linux-x86_64.sh\")\n",
    "%cd -q /content\n",
    "!git clone https://github.com/RVC-Boss/GPT-SoVITS\n",
    "!conda install -y -q -c pytorch -c nvidia cudatoolkit\n",
    "%cd -q /content/GPT-SoVITS\n",
    "!conda install -y -q -c conda-forge gcc gxx ffmpeg cmake -c pytorch -c nvidia\n",
    "!/usr/local/bin/pip install -r requirements.txt"
   ],
   "metadata": {
    "collapsed": false
   }
  },
  {
   "cell_type": "code",
   "execution_count": null,
   "outputs": [],
   "source": [
    "# 3. Download pretrained models 下载预训练模型\n",
    "# !git clone https://huggingface.co/lj1995/GPT-SoVITS GPT_SoVITS/pretrained_models  # 下载模型(此句单纯存一下)\n",
    "\n",
    "# @title Download pretrained models 下载预训练模型 ==>这一段比较久\n",
    "!mkdir -p /content/GPT-SoVITS/GPT_SoVITS/pretrained_models\n",
    "!mkdir -p /content/GPT-SoVITS/tools/damo_asr/models\n",
    "!mkdir -p /content/GPT-SoVITS/tools/uvr5\n",
    "%cd /content/GPT-SoVITS/GPT_SoVITS/pretrained_models\n",
    "!git clone https://huggingface.co/lj1995/GPT-SoVITS\n",
    "%cd /content/GPT-SoVITS/tools/damo_asr/models\n",
    "!git clone https://www.modelscope.cn/damo/speech_paraformer-large_asr_nat-zh-cn-16k-common-vocab8404-pytorch.git\n",
    "!git clone https://www.modelscope.cn/damo/speech_fsmn_vad_zh-cn-16k-common-pytorch.git\n",
    "!git clone https://www.modelscope.cn/damo/punc_ct-transformer_zh-cn-common-vocab272727-pytorch.git\n",
    "# @title UVR5 pretrains 安装uvr5模型\n",
    "%cd /content/GPT-SoVITS/tools/uvr5\n",
    "!git clone https://huggingface.co/Delik/uvr5_weights\n",
    "!git config core.sparseCheckout true\n",
    "!mv /content/GPT-SoVITS/GPT_SoVITS/pretrained_models/GPT-SoVITS/* /content/GPT-SoVITS/GPT_SoVITS/pretrained_models/"
   ],
   "metadata": {
    "collapsed": false
   }
  },
  {
   "cell_type": "code",
   "execution_count": null,
   "outputs": [],
   "source": [
    "# 4. 页面访问,之后转readme,页面操作\n",
    "# @title launch WebUI 启动WebUI 允许公网访问\n",
    "!/usr/local/bin/pip install ipykernel\n",
    "!sed -i '10s/False/True/' /content/GPT-SoVITS/config.py\n",
    "%cd /content/GPT-SoVITS/\n",
    "!/usr/local/bin/python  webui.py"
   ],
   "metadata": {
    "collapsed": false
   }
  }
 ],
 "metadata": {
  "kernelspec": {
   "display_name": "Python 3",
   "language": "python",
   "name": "python3"
  },
  "language_info": {
   "codemirror_mode": {
    "name": "ipython",
    "version": 2
   },
   "file_extension": ".py",
   "mimetype": "text/x-python",
   "name": "python",
   "nbconvert_exporter": "python",
   "pygments_lexer": "ipython2",
   "version": "2.7.6"
  }
 },
 "nbformat": 4,
 "nbformat_minor": 0
}
