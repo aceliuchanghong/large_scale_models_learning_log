{
 "cells": [
  {
   "cell_type": "code",
   "execution_count": null,
   "metadata": {
    "collapsed": true
   },
   "outputs": [],
   "source": [
    "!apt install libcublas11"
   ]
  },
  {
   "cell_type": "code",
   "execution_count": null,
   "outputs": [],
   "source": [
    "!pip install faster-whisper"
   ],
   "metadata": {
    "collapsed": false
   }
  },
  {
   "cell_type": "code",
   "execution_count": null,
   "outputs": [],
   "source": [
    "from faster_whisper import WhisperModel\n",
    "import os\n",
    "from google.colab import files\n",
    "\n",
    "# 为什么用v3,有新的当然用新的喽\n",
    "model_size = \"large-v3\" # tiny, base, small, medium, large, large-v2, large-v3\n",
    "mode = \"normal\" # normal 一般, timeline 加入时间轴, subtitle 产生字幕格式\n",
    "\n",
    "# Run on GPU with FP16\n",
    "model = WhisperModel(model_size, device=\"cuda\", compute_type=\"float16\")\n",
    "\n",
    "# 路径\n",
    "audio_path = \"/content/1.wav\"\n",
    "\n",
    "segments, info = model.transcribe(audio_path, beam_size=5, initial_prompt=\"简体\")\n",
    "# 繁體\n",
    "# segments, info = model.transcribe(audio_path, beam_size=5, initial_prompt=\"繁體\")\n",
    "\n",
    "transcription = \"\"\n",
    "\n",
    "# 1 以下一般版本\n",
    "if mode == \"normal\":\n",
    "  transcription_segments = [segment.text for segment in segments]\n",
    "  transcription = \"，\".join(transcription_segments)\n",
    "\n",
    "# 2 以下加入时间轴版本\n",
    "elif mode == \"timeline\":\n",
    "  for segment in segments:\n",
    "    transcription += \"[%.2fs -> %.2fs] %s\\n\" % (segment.start, segment.end, segment.text)\n",
    "\n",
    "# 3 以下产生字幕格式的版本\n",
    "elif mode == \"subtitle\":\n",
    "  for i, segment in enumerate(segments, 1):\n",
    "    start_hours, start_remainder = divmod(segment.start, 3600)\n",
    "    start_minutes, start_seconds = divmod(start_remainder, 60)\n",
    "    end_hours, end_remainder = divmod(segment.end, 3600)\n",
    "    end_minutes, end_seconds = divmod(end_remainder, 60)\n",
    "    transcription += \"%d\\n%02d:%02d:%06.3f --> %02d:%02d:%06.3f\\n%s\\n\\n\" % (\n",
    "      i,\n",
    "      start_hours, start_minutes, start_seconds,\n",
    "      end_hours, end_minutes, end_seconds,\n",
    "      segment.text\n",
    "    )\n",
    "\n",
    "print(transcription)\n",
    "\n",
    "file_name = os.path.splitext(os.path.basename(audio_path))[0]\n",
    "\n",
    "# 结果保存txt\n",
    "with open(f\"{file_name}.txt\", \"w\") as file:\n",
    "  file.write(transcription)\n",
    "  files.download(f\"{file_name}.txt\")"
   ],
   "metadata": {
    "collapsed": false
   }
  }
 ],
 "metadata": {
  "kernelspec": {
   "display_name": "Python 3",
   "language": "python",
   "name": "python3"
  },
  "language_info": {
   "codemirror_mode": {
    "name": "ipython",
    "version": 2
   },
   "file_extension": ".py",
   "mimetype": "text/x-python",
   "name": "python",
   "nbconvert_exporter": "python",
   "pygments_lexer": "ipython2",
   "version": "2.7.6"
  }
 },
 "nbformat": 4,
 "nbformat_minor": 0
}
